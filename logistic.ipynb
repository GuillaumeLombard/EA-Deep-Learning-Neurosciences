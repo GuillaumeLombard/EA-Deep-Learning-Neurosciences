{
 "cells": [
  {
   "cell_type": "code",
   "execution_count": 19,
   "metadata": {},
   "outputs": [],
   "source": [
    "from sklearn.linear_model import LogisticRegression\n",
    "from sklearn.metrics import classification_report, confusion_matrix\n",
    "from sklearn.model_selection import train_test_split\n",
    "import h5py\n",
    "import numpy as np\n",
    "import matplotlib.pyplot as plt\n",
    "import seaborn as sns\n",
    "\n"
   ]
  },
  {
   "cell_type": "code",
   "execution_count": 5,
   "metadata": {},
   "outputs": [
    {
     "name": "stdout",
     "output_type": "stream",
     "text": [
      "CTRL FC shape: (27, 68, 68)\n",
      "SCHZ FC shape: (27, 68, 68)\n",
      "Data finale (patients, features): (54, 4624)\n",
      "Labels shape: (54,)\n"
     ]
    }
   ],
   "source": [
    "# Chemin vers tes données\n",
    "file_path = \"Data_ML/SC_FC_dataset_filtered_68x68.h5\"\n",
    "\n",
    "# Charger les données depuis le fichier h5 (uniquement FC_correlation)\n",
    "with h5py.File(file_path, \"r\") as f:\n",
    "    # Chargement FC_correlation pour les patients sains (CTRL)\n",
    "    ctrl_FC = f[\"FC_correlation\"][\"ctrl\"][:]  # (27, 68, 68)\n",
    "    \n",
    "    # Chargement FC_correlation pour les patients schizophrènes (SCHZ)\n",
    "    schz_FC = f[\"FC_correlation\"][\"schz\"][:]  # (27, 68, 68)\n",
    "\n",
    "# Vérification des dimensions\n",
    "print(\"CTRL FC shape:\", ctrl_FC.shape)   # attendu (27,68,68)\n",
    "print(\"SCHZ FC shape:\", schz_FC.shape)   # attendu (27,68,68)\n",
    "\n",
    "# Concaténation des données\n",
    "X_FC = np.concatenate([ctrl_FC, schz_FC], axis=0)  # (54, 68, 68)\n",
    "\n",
    "# Création des labels correspondants\n",
    "y_labels = np.array([0]*len(ctrl_FC) + [1]*len(schz_FC))  # 0: CTRL, 1: SCHZ\n",
    "\n",
    "# Flatten chaque matrice FC en vecteur\n",
    "X_FC_flat = X_FC.reshape(X_FC.shape[0], -1)  # shape finale (54, 4624)\n",
    "\n",
    "# Vérification finale\n",
    "print(\"Data finale (patients, features):\", X_FC_flat.shape)\n",
    "print(\"Labels shape:\", y_labels.shape)\n",
    "\n"
   ]
  },
  {
   "cell_type": "code",
   "execution_count": 14,
   "metadata": {},
   "outputs": [
    {
     "name": "stdout",
     "output_type": "stream",
     "text": [
      "Répartition des classes dans Train : Counter({0: 18, 1: 18})\n",
      "Répartition des classes dans Test : Counter({0: 9, 1: 9})\n"
     ]
    }
   ],
   "source": [
    "from sklearn.linear_model import LogisticRegression\n",
    "from sklearn.metrics import classification_report\n",
    "from sklearn.model_selection import train_test_split\n",
    "from collections import Counter\n",
    "\n",
    "# 📌 Séparer les indices des patients CTRL et SCHZ explicitement\n",
    "ctrl_indices = [i for i, label in enumerate(y_labels) if label == 0]  # CTRL\n",
    "schz_indices = [i for i, label in enumerate(y_labels) if label == 1]  # SCHZ\n",
    "\n",
    "# 📌 Séparer chaque groupe en train/test séparément (50% train/test par exemple)\n",
    "ctrl_train_idx, ctrl_test_idx = train_test_split(\n",
    "    ctrl_indices, test_size=0.3, random_state=42\n",
    ")\n",
    "\n",
    "schz_train_idx, schz_test_idx = train_test_split(\n",
    "    schz_indices, test_size=0.3, random_state=42\n",
    ")\n",
    "\n",
    "# 📌 Fusion des indices pour créer des jeux équilibrés\n",
    "train_indices = ctrl_train_idx + schz_train_idx\n",
    "test_indices = ctrl_test_idx + schz_test_idx\n",
    "\n",
    "# 📌 Création claire des jeux de données finaux\n",
    "X_train = X_FC_flat[train_indices]\n",
    "y_train = y_labels[train_indices]\n",
    "\n",
    "X_test = X_FC_flat[test_indices]\n",
    "y_test = y_labels[test_indices]\n",
    "\n",
    "# 📌 Vérification explicite de la répartition des classes\n",
    "print(\"Répartition des classes dans Train :\", Counter(y_train))\n",
    "print(\"Répartition des classes dans Test :\", Counter(y_test))\n"
   ]
  },
  {
   "cell_type": "code",
   "execution_count": 21,
   "metadata": {},
   "outputs": [
    {
     "name": "stdout",
     "output_type": "stream",
     "text": [
      "\n",
      "📌 Rapport de classification :\n",
      "              precision    recall  f1-score   support\n",
      "\n",
      "        CTRL       0.58      0.78      0.67         9\n",
      "        SCHZ       0.67      0.44      0.53         9\n",
      "\n",
      "    accuracy                           0.61        18\n",
      "   macro avg       0.62      0.61      0.60        18\n",
      "weighted avg       0.62      0.61      0.60        18\n",
      "\n"
     ]
    },
    {
     "data": {
      "image/png": "[encoded data removed]",
      "text/plain": [
       "<Figure size 600x500 with 2 Axes>"
      ]
     },
     "metadata": {},
     "output_type": "display_data"
    }
   ],
   "source": [
    "# 📌 Régression logistique classique\n",
    "logreg = LogisticRegression(max_iter=1000, random_state=42)\n",
    "logreg.fit(X_train, y_train)\n",
    "\n",
    "# 📌 Prédictions et rapport clair\n",
    "preds = logreg.predict(X_test)\n",
    "\n",
    "print(\"\\n📌 Rapport de classification :\")\n",
    "print(classification_report(y_test, preds, target_names=[\"CTRL\", \"SCHZ\"]))\n",
    "\n",
    "conf_matrix = confusion_matrix(y_test, preds)\n",
    "\n",
    "# 📌 Affichage de la matrice de confusion\n",
    "plt.figure(figsize=(6,5))\n",
    "sns.heatmap(conf_matrix, annot=True, fmt=\"d\", cmap=\"Blues\", xticklabels=['CTRL', 'SCHZ'], yticklabels=['CTRL', 'SCHZ'])\n",
    "plt.xlabel(\"Prédictions\")\n",
    "plt.ylabel(\"Réel\")\n",
    "plt.title(\"Matrice de confusion\")\n",
    "plt.show()\n"
   ]
  },
  {
   "cell_type": "code",
   "execution_count": null,
   "metadata": {},
   "outputs": [
    {
     "name": "stdout",
     "output_type": "stream",
     "text": [
      "Répartition des classes dans Train : Counter({0: 18, 1: 18})\n",
      "Répartition des classes dans Test : Counter({0: 9, 1: 9})\n",
      "\n",
      "📌 Rapport de classification (3 matrices) :\n",
      "              precision    recall  f1-score   support\n",
      "\n",
      "        CTRL       0.58      0.78      0.67         9\n",
      "        SCHZ       0.67      0.44      0.53         9\n",
      "\n",
      "    accuracy                           0.61        18\n",
      "   macro avg       0.62      0.61      0.60        18\n",
      "weighted avg       0.62      0.61      0.60        18\n",
      "\n"
     ]
    },
    {
     "data": {
      "image/png": "[encoded data removed]",
      "text/plain": [
       "<Figure size 800x600 with 2 Axes>"
      ]
     },
     "metadata": {},
     "output_type": "display_data"
    }
   ],
   "source": [
    "# 📌 Charger les 3 matrices depuis ton fichier\n",
    "file_path = \"Data_ML/SC_FC_dataset_filtered_68x68.h5\"\n",
    "\n",
    "with h5py.File(file_path, \"r\") as f:\n",
    "    ctrl_FC = f[\"FC_correlation\"][\"ctrl\"][:]\n",
    "    schz_FC = f[\"FC_correlation\"][\"schz\"][:]\n",
    "    ctrl_ADC = f[\"SC_ADC\"][\"ctrl\"][:]\n",
    "    schz_ADC = f[\"SC_ADC\"][\"schz\"][:]\n",
    "    ctrl_density = f[\"SC_density\"][\"ctrl\"][:]\n",
    "    schz_density = f[\"SC_density\"][\"schz\"][:]\n",
    "\n",
    "# 📌 Stack clairement les matrices (3 canaux)\n",
    "ctrl_data = np.stack([ctrl_FC, ctrl_ADC, ctrl_density], axis=1)\n",
    "schz_data = np.stack([schz_FC, schz_ADC, schz_density], axis=1)\n",
    "\n",
    "# 📌 Aplatir chaque groupe en vecteurs\n",
    "ctrl_flat = ctrl_data.reshape(len(ctrl_data), -1)  # (27, 3*68*68)\n",
    "schz_flat = schz_data.reshape(len(schz_data), -1)  # (27, 3*68*68)\n",
    "\n",
    "# 📌 Créer les indices relatifs à chaque groupe (0 à 26)\n",
    "ctrl_indices = np.arange(len(ctrl_flat))\n",
    "schz_indices = np.arange(len(schz_flat))\n",
    "\n",
    "# 📌 Séparer train/test chaque groupe clairement (70% train, 30% test)\n",
    "ctrl_train_idx, ctrl_test_idx = train_test_split(ctrl_indices, test_size=0.3, random_state=42)\n",
    "schz_train_idx, schz_test_idx = train_test_split(schz_indices, test_size=0.3, random_state=42)\n",
    "\n",
    "# 📌 Finaliser clairement les datasets en utilisant ces indices relatifs\n",
    "X_train = np.concatenate([ctrl_flat[ctrl_train_idx], schz_flat[schz_train_idx]])\n",
    "y_train = np.array([0]*len(ctrl_train_idx) + [1]*len(schz_train_idx))\n",
    "\n",
    "X_test = np.concatenate([ctrl_flat[ctrl_test_idx], schz_flat[schz_test_idx]])\n",
    "y_test = np.array([0]*len(ctrl_test_idx) + [1]*len(schz_test_idx))\n",
    "\n",
    "# 📌 Vérification des proportions\n",
    "print(\"Répartition des classes dans Train :\", Counter(y_train))\n",
    "print(\"Répartition des classes dans Test :\", Counter(y_test))\n",
    "\n",
    "# 📌 Entraînement régression logistique\n",
    "logreg = LogisticRegression(max_iter=1000)\n",
    "logreg.fit(X_train, y_train)\n",
    "\n",
    "# 📌 Prédictions et performances\n",
    "preds = logreg.predict(X_test)\n",
    "\n",
    "print(\"\\n📌 Rapport de classification (3 matrices) :\")\n",
    "print(classification_report(y_test, preds, target_names=[\"CTRL\", \"SCHZ\"]))\n",
    "\n",
    "# 📌 Matrice de confusion avec sns\n",
    "cm = confusion_matrix(y_test, preds)\n",
    "\n",
    "plt.figure(figsize=(8,6))\n",
    "sns.heatmap(cm, annot=True, fmt='d', cmap='Blues', xticklabels=[\"CTRL\", \"SCHZ\"], yticklabels=[\"CTRL\", \"SCHZ\"])\n",
    "plt.title(\"Matrice de confusion : Régression logistique (3 matrices)\")\n",
    "plt.xlabel(\"Prédictions\")\n",
    "plt.ylabel(\"Valeurs réelles\")\n",
    "plt.tight_layout()\n",
    "plt.show()\n"
   ]
  }
 ],
 "metadata": {
  "kernelspec": {
   "display_name": "Python 3",
   "language": "python",
   "name": "python3"
  },
  "language_info": {
   "codemirror_mode": {
    "name": "ipython",
    "version": 3
   },
   "file_extension": ".py",
   "mimetype": "text/x-python",
   "name": "python",
   "nbconvert_exporter": "python",
   "pygments_lexer": "ipython3",
   "version": "3.9.13"
  }
 },
 "nbformat": 4,
 "nbformat_minor": 2
}
